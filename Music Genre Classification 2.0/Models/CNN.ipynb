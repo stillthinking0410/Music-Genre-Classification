{
  "cells": [
    {
      "cell_type": "code",
      "execution_count": 1,
      "metadata": {
        "colab": {
          "base_uri": "https://localhost:8080/"
        },
        "id": "5mSb-TEP16Xf",
        "outputId": "f929388b-8c7d-4f71-b30c-38f3c907df1d"
      },
      "outputs": [
        {
          "output_type": "stream",
          "name": "stdout",
          "text": [
            "Mounted at /content/drive\n"
          ]
        }
      ],
      "source": [
        "from google.colab import drive\n",
        "drive.mount('/content/drive')"
      ]
    },
    {
      "cell_type": "code",
      "execution_count": 2,
      "metadata": {
        "colab": {
          "base_uri": "https://localhost:8080/"
        },
        "id": "d3b5bn3oJw5H",
        "outputId": "495d2d15-c99f-434e-a83e-a16356b93660"
      },
      "outputs": [
        {
          "output_type": "stream",
          "name": "stdout",
          "text": [
            "Collecting python_speech_features\n",
            "  Downloading python_speech_features-0.6.tar.gz (5.6 kB)\n",
            "  Preparing metadata (setup.py) ... \u001b[?25l\u001b[?25hdone\n",
            "Building wheels for collected packages: python_speech_features\n",
            "  Building wheel for python_speech_features (setup.py) ... \u001b[?25l\u001b[?25hdone\n",
            "  Created wheel for python_speech_features: filename=python_speech_features-0.6-py3-none-any.whl size=5867 sha256=2d3849129fd80f3dff07f3741691ac790dfc45cafaec2560609ce893b408b672\n",
            "  Stored in directory: /root/.cache/pip/wheels/5a/9e/68/30bad9462b3926c29e315df16b562216d12bdc215f4d240294\n",
            "Successfully built python_speech_features\n",
            "Installing collected packages: python_speech_features\n",
            "Successfully installed python_speech_features-0.6\n"
          ]
        }
      ],
      "source": [
        "pip install python_speech_features"
      ]
    },
    {
      "cell_type": "code",
      "execution_count": 4,
      "metadata": {
        "colab": {
          "base_uri": "https://localhost:8080/"
        },
        "id": "h50-kWOy4ELU",
        "outputId": "91d44b9e-8cd7-4090-8c92-5bd1c163bceb"
      },
      "outputs": [
        {
          "output_type": "stream",
          "name": "stdout",
          "text": [
            "Epoch [1/50], Loss: 2.2169\n",
            "Epoch [2/50], Loss: 1.9761\n",
            "Epoch [3/50], Loss: 1.8484\n",
            "Epoch [4/50], Loss: 1.7462\n",
            "Epoch [5/50], Loss: 1.6824\n",
            "Epoch [6/50], Loss: 1.5917\n",
            "Epoch [7/50], Loss: 1.5470\n",
            "Epoch [8/50], Loss: 1.5314\n",
            "Epoch [9/50], Loss: 1.4437\n",
            "Epoch [10/50], Loss: 1.3951\n",
            "Epoch [11/50], Loss: 1.3452\n",
            "Epoch [12/50], Loss: 1.2954\n",
            "Epoch [13/50], Loss: 1.2495\n",
            "Epoch [14/50], Loss: 1.1963\n",
            "Epoch [15/50], Loss: 1.1308\n",
            "Epoch [16/50], Loss: 1.1263\n",
            "Epoch [17/50], Loss: 1.1078\n",
            "Epoch [18/50], Loss: 1.0622\n",
            "Epoch [19/50], Loss: 1.0046\n",
            "Epoch [20/50], Loss: 0.9477\n",
            "Epoch [21/50], Loss: 0.8896\n",
            "Epoch [22/50], Loss: 0.8888\n",
            "Epoch [23/50], Loss: 0.8378\n",
            "Epoch [24/50], Loss: 0.8292\n",
            "Epoch [25/50], Loss: 0.7603\n",
            "Epoch [26/50], Loss: 0.7306\n",
            "Epoch [27/50], Loss: 0.6978\n",
            "Epoch [28/50], Loss: 0.6854\n",
            "Epoch [29/50], Loss: 0.6494\n",
            "Epoch [30/50], Loss: 0.6124\n",
            "Epoch [31/50], Loss: 0.5925\n",
            "Epoch [32/50], Loss: 0.5280\n",
            "Epoch [33/50], Loss: 0.4929\n",
            "Epoch [34/50], Loss: 0.4571\n",
            "Epoch [35/50], Loss: 0.4525\n",
            "Epoch [36/50], Loss: 0.4220\n",
            "Epoch [37/50], Loss: 0.3927\n",
            "Epoch [38/50], Loss: 0.3991\n",
            "Epoch [39/50], Loss: 0.3455\n",
            "Epoch [40/50], Loss: 0.3209\n",
            "Epoch [41/50], Loss: 0.2863\n",
            "Epoch [42/50], Loss: 0.2962\n",
            "Epoch [43/50], Loss: 0.2794\n",
            "Epoch [44/50], Loss: 0.2447\n",
            "Epoch [45/50], Loss: 0.2512\n",
            "Epoch [46/50], Loss: 0.2146\n",
            "Epoch [47/50], Loss: 0.1958\n",
            "Epoch [48/50], Loss: 0.2172\n",
            "Epoch [49/50], Loss: 0.1968\n",
            "Epoch [50/50], Loss: 0.1903\n",
            "Model saved to /content/drive/MyDrive/cnn_model.pth\n",
            "Accuracy: 0.7121212121212122\n"
          ]
        }
      ],
      "source": [
        "import os\n",
        "import torch\n",
        "import torch.nn as nn\n",
        "import torch.optim as optim\n",
        "from torchvision import datasets, transforms\n",
        "from sklearn.preprocessing import LabelEncoder\n",
        "from sklearn.model_selection import train_test_split\n",
        "\n",
        "\n",
        "# Define the CNN model for spectrogram images\n",
        "class SpectrogramCNN(nn.Module):\n",
        "    def __init__(self, num_classes):\n",
        "        super(SpectrogramCNN, self).__init__()\n",
        "        self.conv1 = nn.Conv2d(in_channels=1, out_channels=32, kernel_size=3, padding=1)\n",
        "        self.conv2 = nn.Conv2d(in_channels=32, out_channels=64, kernel_size=3, padding=1)\n",
        "        self.pool = nn.MaxPool2d(kernel_size=2, stride=2)\n",
        "        self.fc1 = nn.Linear(64 * 32 * 32, 256)  # Adjust the size based on your input image dimensions\n",
        "        self.fc2 = nn.Linear(256, num_classes)\n",
        "        self.dropout = nn.Dropout(0.5)\n",
        "        self.relu = nn.ReLU()\n",
        "\n",
        "    def forward(self, x):\n",
        "        x = self.pool(self.relu(self.conv1(x)))\n",
        "        x = self.pool(self.relu(self.conv2(x)))\n",
        "        x = x.view(x.size(0), -1)  # Flatten the tensor\n",
        "        x = self.dropout(self.relu(self.fc1(x)))\n",
        "        x = self.fc2(x)\n",
        "        return x\n",
        "\n",
        "# Load the augmented spectrogram images\n",
        "def load_spectrogram_images(directory, transform=None):\n",
        "    dataset = datasets.ImageFolder(root=directory, transform=transform)\n",
        "    return dataset\n",
        "\n",
        "# Define transformations for the spectrogram images\n",
        "transform = transforms.Compose([\n",
        "    transforms.Grayscale(num_output_channels=1),  # Convert images to grayscale\n",
        "    transforms.Resize((128, 128)),  # Resize images to a fixed size\n",
        "    transforms.ToTensor(),  # Convert images to PyTorch tensors\n",
        "])\n",
        "\n",
        "# Load the dataset\n",
        "directory = \"/content/drive/MyDrive/Augumented Spectogram\"\n",
        "dataset = load_spectrogram_images(directory, transform=transform)\n",
        "\n",
        "# Split the dataset into training and testing sets\n",
        "train_size = int(0.67 * len(dataset))\n",
        "test_size = len(dataset) - train_size\n",
        "train_dataset, test_dataset = torch.utils.data.random_split(dataset, [train_size, test_size])\n",
        "\n",
        "train_loader = torch.utils.data.DataLoader(train_dataset, batch_size=32, shuffle=True)\n",
        "test_loader = torch.utils.data.DataLoader(test_dataset, batch_size=32, shuffle=False)\n",
        "\n",
        "# Encode the labels\n",
        "label_encoder = LabelEncoder()\n",
        "y_encoded = label_encoder.fit_transform(dataset.targets)\n",
        "\n",
        "# Define the neural network hyperparameters\n",
        "num_classes = len(dataset.classes)\n",
        "\n",
        "# Create the CNN model\n",
        "model = SpectrogramCNN(num_classes)\n",
        "\n",
        "# Define the loss function and optimizer\n",
        "criterion = nn.CrossEntropyLoss()\n",
        "optimizer = optim.Adam(model.parameters(), lr=0.001)\n",
        "\n",
        "# Learning rate scheduler\n",
        "scheduler = optim.lr_scheduler.StepLR(optimizer, step_size=100, gamma=0.1)\n",
        "\n",
        "# Train the CNN model\n",
        "num_epochs = 50\n",
        "for epoch in range(num_epochs):\n",
        "    model.train()\n",
        "    running_loss = 0.0\n",
        "    for inputs, labels in train_loader:\n",
        "        # Forward pass\n",
        "        outputs = model(inputs)\n",
        "        loss = criterion(outputs, labels)\n",
        "\n",
        "        # Backward and optimize\n",
        "        optimizer.zero_grad()\n",
        "        loss.backward()\n",
        "        optimizer.step()\n",
        "        running_loss += loss.item() * inputs.size(0)\n",
        "\n",
        "    scheduler.step()\n",
        "\n",
        "    print(f\"Epoch [{epoch+1}/{num_epochs}], Loss: {running_loss / len(train_loader.dataset):.4f}\")\n",
        "\n",
        "# Save the model after training\n",
        "model_save_path = \"/content/drive/MyDrive/cnn_model.pth\"\n",
        "torch.save(model.state_dict(), model_save_path)\n",
        "print(f\"Model saved to {model_save_path}\")\n",
        "\n",
        "# Evaluate the CNN model\n",
        "model.eval()\n",
        "correct = 0\n",
        "total = 0\n",
        "with torch.no_grad():\n",
        "    for inputs, labels in test_loader:\n",
        "        outputs = model(inputs)\n",
        "        _, predicted = torch.max(outputs.data, 1)\n",
        "        total += labels.size(0)\n",
        "        correct += (predicted == labels).sum().item()\n",
        "\n",
        "accuracy = correct / total\n",
        "print(\"Accuracy:\", accuracy)\n"
      ]
    },
    {
      "cell_type": "code",
      "source": [
        "import torch\n",
        "import torch.nn as nn\n",
        "from torchvision import transforms\n",
        "from PIL import Image\n",
        "\n",
        "class SpectrogramCNN(nn.Module):\n",
        "    def __init__(self, num_classes):\n",
        "        super(SpectrogramCNN, self).__init__()\n",
        "        self.conv1 = nn.Conv2d(in_channels=1, out_channels=32, kernel_size=3, padding=1)\n",
        "        self.conv2 = nn.Conv2d(in_channels=32, out_channels=64, kernel_size=3, padding=1)\n",
        "        self.pool = nn.MaxPool2d(kernel_size=2, stride=2)\n",
        "        self.fc1 = nn.Linear(64 * 32 * 32, 256)\n",
        "        self.fc2 = nn.Linear(256, num_classes)\n",
        "        self.dropout = nn.Dropout(0.5)\n",
        "        self.relu = nn.ReLU()\n",
        "\n",
        "    def forward(self, x):\n",
        "        x = self.pool(self.relu(self.conv1(x)))\n",
        "        x = self.pool(self.relu(self.conv2(x)))\n",
        "        x = x.view(x.size(0), -1)\n",
        "        x = self.dropout(self.relu(self.fc1(x)))\n",
        "        x = self.fc2(x)\n",
        "        return x\n",
        "\n",
        "# Load the model\n",
        "num_classes = 10  # Replace with your number of classes\n",
        "model = SpectrogramCNN(num_classes)\n",
        "model_load_path = \"/content/drive/MyDrive/cnn_model.pth\"\n",
        "model.load_state_dict(torch.load(model_load_path))\n",
        "model.eval()\n",
        "\n",
        "# Define the image transformation\n",
        "transform = transforms.Compose([\n",
        "    transforms.Grayscale(num_output_channels=1),\n",
        "    transforms.Resize((128, 128)),\n",
        "    transforms.ToTensor(),\n",
        "])\n",
        "\n",
        "# Load and transform the image\n",
        "image_path = \"/content/drive/MyDrive/Augumented Spectogram/jazz/flipped_jazz.00004.png\"\n",
        "image = Image.open(image_path)\n",
        "image = transform(image)\n",
        "image = image.unsqueeze(0)  # Add a batch dimension\n",
        "\n",
        "# Move to device\n",
        "image = image.to(torch.device(\"cuda\" if torch.cuda.is_available() else \"cpu\"))\n",
        "\n",
        "# Make a prediction\n",
        "with torch.no_grad():\n",
        "    output = model(image)\n",
        "    _, predicted_class = torch.max(output, 1)\n",
        "\n",
        "# Assuming you have the label encoder from training\n",
        "labels = dataset.classes  # Replace with your label list\n",
        "predicted_label = labels[predicted_class.item()]\n",
        "print(f\"Predicted label: {predicted_label}\")\n"
      ],
      "metadata": {
        "colab": {
          "base_uri": "https://localhost:8080/"
        },
        "id": "mVauK7a6-sY-",
        "outputId": "4634f759-cb14-4219-98f2-6221e5cd6c29"
      },
      "execution_count": 6,
      "outputs": [
        {
          "output_type": "stream",
          "name": "stdout",
          "text": [
            "Predicted label: jazz\n"
          ]
        },
        {
          "output_type": "stream",
          "name": "stderr",
          "text": [
            "<ipython-input-6-c1cd241f549c>:29: FutureWarning: You are using `torch.load` with `weights_only=False` (the current default value), which uses the default pickle module implicitly. It is possible to construct malicious pickle data which will execute arbitrary code during unpickling (See https://github.com/pytorch/pytorch/blob/main/SECURITY.md#untrusted-models for more details). In a future release, the default value for `weights_only` will be flipped to `True`. This limits the functions that could be executed during unpickling. Arbitrary objects will no longer be allowed to be loaded via this mode unless they are explicitly allowlisted by the user via `torch.serialization.add_safe_globals`. We recommend you start setting `weights_only=True` for any use case where you don't have full control of the loaded file. Please open an issue on GitHub for any issues related to this experimental feature.\n",
            "  model.load_state_dict(torch.load(model_load_path))\n"
          ]
        }
      ]
    }
  ],
  "metadata": {
    "accelerator": "TPU",
    "colab": {
      "gpuType": "V28",
      "provenance": []
    },
    "kernelspec": {
      "display_name": "Python 3",
      "name": "python3"
    },
    "language_info": {
      "name": "python"
    }
  },
  "nbformat": 4,
  "nbformat_minor": 0
}